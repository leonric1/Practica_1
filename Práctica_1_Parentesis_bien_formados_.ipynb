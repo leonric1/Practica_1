{
  "nbformat": 4,
  "nbformat_minor": 0,
  "metadata": {
    "colab": {
      "provenance": []
    },
    "kernelspec": {
      "name": "python3",
      "display_name": "Python 3"
    },
    "language_info": {
      "name": "python"
    }
  },
  "cells": [
    {
      "cell_type": "code",
      "execution_count": null,
      "metadata": {
        "id": "FK4qvNkVU5wt",
        "colab": {
          "base_uri": "https://localhost:8080/"
        },
        "outputId": "906071c1-4ad3-4b77-9869-f94345931e02"
      },
      "outputs": [
        {
          "output_type": "stream",
          "name": "stdout",
          "text": [
            "Ingrese su cadena de parentesis: ()\n",
            "La cedena es verdadera.\n",
            "True\n"
          ]
        }
      ],
      "source": [
        "\"\"\"\n",
        "Practica 1 | Parentesis bien formados\n",
        "\n",
        "Equipo: Magno Gómez Ricardo León\n",
        "        Ramírez Martínez Maya\n",
        "\"\"\"\n",
        "\n",
        "def validacion_parentesis(texto):\n",
        "  '''\n",
        "  Funcion encargada de recibir cadenas de parentesis, regresando un booleano\n",
        "  que indica si la cadena de parentesis esta bien escrita.\n",
        "  '''\n",
        "  # Creamos una lista vacía en la cual ingresaremos los elementos de la cadena.\n",
        "  pila = []\n",
        "  # Para cada elemento en cadena ponemos las siguientes condiciones:\n",
        "  for elemento in texto:\n",
        "    if elemento == \"(\":\n",
        "      pila.append(elemento)\n",
        "      # Si el elemento es un abierto, agregamos el elemento a la pila.\n",
        "\n",
        "    elif elemento == \")\":\n",
        "      if len(pila) == 0:\n",
        "        print(\"Su cadena es incorrecta. Existe un parentesis cerrado sin su respectivo parentesis abierto.\")\n",
        "        return False\n",
        "        # Al iniciar con un cerrado, la cadena regresara falso.\n",
        "      pila.pop() # Si hay otro elemento en la cadena sera un abierto.\n",
        "                  # Por lo que le quitaremos un elemento de la pila.\n",
        "    else:\n",
        "      if elemento != \" \":\n",
        "        print(\"Existen elementos distintos del parentesis, revisa tu cadena.\")\n",
        "        return False\n",
        "\n",
        "  if not pila:\n",
        "    # Al no tener elementos la pila, sera porque fueron \"cancelados entre si\"\n",
        "    # Por las condiciones que establecimos antes.\n",
        "    print(\"La cedena es verdadera.\")\n",
        "    return True\n",
        "  else: # Si hay algun elemento en la pila, la cadena es erronea.\n",
        "        # Pues habrá un parentesis abierto sin uno cerrado.\n",
        "    print(\"Su cadena es incorrecta. Hay un parentesis abierto sin un parentesis correspondiente a su cierre\")\n",
        "    return False\n",
        "\n",
        "if __name__ == \"__main__\":\n",
        "  texto = input(\"Ingrese su cadena de parentesis: \")\n",
        "  print(validacion_parentesis(texto))\n",
        "  # Hacemos que la cadena sea proporcionada por la persona."
      ]
    }
  ]
}